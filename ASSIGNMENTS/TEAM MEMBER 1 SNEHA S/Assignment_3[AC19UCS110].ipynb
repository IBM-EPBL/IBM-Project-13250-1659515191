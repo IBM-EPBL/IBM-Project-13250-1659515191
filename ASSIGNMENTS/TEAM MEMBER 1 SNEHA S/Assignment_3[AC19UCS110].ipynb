{
  "nbformat": 4,
  "nbformat_minor": 0,
  "metadata": {
    "colab": {
      "provenance": [],
      "collapsed_sections": []
    },
    "kernelspec": {
      "name": "python3",
      "display_name": "Python 3"
    },
    "language_info": {
      "name": "python"
    }
  },
  "cells": [
    {
      "cell_type": "markdown",
      "source": [
        "Load the Dataset"
      ],
      "metadata": {
        "id": "lXNu-ZihNmxJ"
      }
    },
    {
      "cell_type": "code",
      "execution_count": 1,
      "metadata": {
        "colab": {
          "base_uri": "https://localhost:8080/"
        },
        "id": "t1uZKj5bEwwQ",
        "outputId": "e6d14e15-2f83-4732-90f4-70534028504e"
      },
      "outputs": [
        {
          "output_type": "stream",
          "name": "stdout",
          "text": [
            "\u001b[0m\u001b[01;34msample_data\u001b[0m/\n"
          ]
        }
      ],
      "source": [
        "ls\n"
      ]
    },
    {
      "cell_type": "code",
      "source": [
        "cd /content/drive/MyDrive/Colab Notebooks/CNN1"
      ],
      "metadata": {
        "colab": {
          "base_uri": "https://localhost:8080/"
        },
        "id": "LHanloDoGrzY",
        "outputId": "f56b1523-ce37-41fd-8b1f-66163e8a941e"
      },
      "execution_count": 2,
      "outputs": [
        {
          "output_type": "stream",
          "name": "stdout",
          "text": [
            "[Errno 2] No such file or directory: '/content/drive/MyDrive/Colab Notebooks/CNN1'\n",
            "/content\n"
          ]
        }
      ]
    },
    {
      "cell_type": "code",
      "source": [
        "ls"
      ],
      "metadata": {
        "colab": {
          "base_uri": "https://localhost:8080/"
        },
        "id": "lyDGkn-kG6oA",
        "outputId": "0b800ed9-0e1e-426e-e640-5dca60104c07"
      },
      "execution_count": 3,
      "outputs": [
        {
          "output_type": "stream",
          "name": "stdout",
          "text": [
            "\u001b[0m\u001b[01;34msample_data\u001b[0m/\n"
          ]
        }
      ]
    },
    {
      "cell_type": "code",
      "source": [
        "pwd"
      ],
      "metadata": {
        "colab": {
          "base_uri": "https://localhost:8080/",
          "height": 35
        },
        "id": "YOyE9_5BG8S7",
        "outputId": "770037a5-5d1f-414c-9aa3-8cd1ee1572a9"
      },
      "execution_count": 4,
      "outputs": [
        {
          "output_type": "execute_result",
          "data": {
            "text/plain": [
              "'/content'"
            ],
            "application/vnd.google.colaboratory.intrinsic+json": {
              "type": "string"
            }
          },
          "metadata": {},
          "execution_count": 4
        }
      ]
    },
    {
      "cell_type": "code",
      "source": [
        "!unzip Flowers-Dataset.zip"
      ],
      "metadata": {
        "colab": {
          "base_uri": "https://localhost:8080/"
        },
        "id": "l4P1mFeUHFUN",
        "outputId": "ea1da348-d56e-4751-f03e-1ba11dc23d60"
      },
      "execution_count": 5,
      "outputs": [
        {
          "output_type": "stream",
          "name": "stdout",
          "text": [
            "unzip:  cannot find or open Flowers-Dataset.zip, Flowers-Dataset.zip.zip or Flowers-Dataset.zip.ZIP.\n"
          ]
        }
      ]
    },
    {
      "cell_type": "markdown",
      "source": [
        "Image Augmentation"
      ],
      "metadata": {
        "id": "pF_AjEokNrd6"
      }
    },
    {
      "cell_type": "code",
      "source": [
        "from tensorflow.keras.preprocessing.image import ImageDataGenerator"
      ],
      "metadata": {
        "id": "M-iicHQ7HbUM"
      },
      "execution_count": 6,
      "outputs": []
    },
    {
      "cell_type": "markdown",
      "source": [],
      "metadata": {
        "id": "Mj-gZCpU_hYJ"
      }
    },
    {
      "cell_type": "code",
      "source": [
        "train_data = ImageDataGenerator(rescale= 1./255,horizontal_flip = True,vertical_flip = True,zoom_range = 0.2)"
      ],
      "metadata": {
        "id": "LrpG4TOMI5V5"
      },
      "execution_count": null,
      "outputs": []
    },
    {
      "cell_type": "code",
      "source": [
        "test_data = ImageDataGenerator(rescale= 1./255)"
      ],
      "metadata": {
        "id": "UA_tym2xI-e0"
      },
      "execution_count": null,
      "outputs": []
    },
    {
      "cell_type": "code",
      "source": [
        "x_train = train_data.flow_from_directory(r\"/content/drive/MyDrive/Colab Notebooks/CNN1/flowers\",target_size = (64,64),\n",
        "                                            class_mode = \"categorical\",batch_size = 40)"
      ],
      "metadata": {
        "colab": {
          "base_uri": "https://localhost:8080/"
        },
        "id": "YlvIAQUVJEkc",
        "outputId": "a6920f55-dced-4f0f-d9e9-4e64a673b5c3"
      },
      "execution_count": null,
      "outputs": [
        {
          "output_type": "stream",
          "name": "stdout",
          "text": [
            "Found 4317 images belonging to 5 classes.\n"
          ]
        }
      ]
    },
    {
      "cell_type": "code",
      "source": [
        "x_test = test_data.flow_from_directory(r\"/content/drive/MyDrive/Colab Notebooks/CNN1/flowers\",target_size = (64,64),\n",
        "                                            class_mode = \"categorical\",batch_size = 40)"
      ],
      "metadata": {
        "colab": {
          "base_uri": "https://localhost:8080/"
        },
        "id": "0-NIu-P_M5nH",
        "outputId": "5e6f3b8e-7300-4fa3-acbc-7a7f59d29486"
      },
      "execution_count": null,
      "outputs": [
        {
          "output_type": "stream",
          "name": "stdout",
          "text": [
            "Found 4317 images belonging to 5 classes.\n"
          ]
        }
      ]
    },
    {
      "cell_type": "markdown",
      "source": [
        "Creating CNN Model"
      ],
      "metadata": {
        "id": "2nmCuO7LN3X6"
      }
    },
    {
      "cell_type": "code",
      "source": [
        "from tensorflow.keras.models import Sequential\n",
        "from tensorflow.keras.layers import Convolution2D,MaxPooling2D,Flatten,Dense"
      ],
      "metadata": {
        "id": "2q6Z1dVINFvU"
      },
      "execution_count": null,
      "outputs": []
    },
    {
      "cell_type": "code",
      "source": [
        "model = Sequential()"
      ],
      "metadata": {
        "id": "3m9wrrSGN-ql"
      },
      "execution_count": null,
      "outputs": []
    },
    {
      "cell_type": "markdown",
      "source": [
        "Adding Layers"
      ],
      "metadata": {
        "id": "0-ZbChbCODbR"
      }
    },
    {
      "cell_type": "code",
      "source": [
        "model.add(Convolution2D(32,(3,3),activation = \"relu\",input_shape = (64,64,3)))"
      ],
      "metadata": {
        "id": "HyiAfTMnOCFl"
      },
      "execution_count": null,
      "outputs": []
    },
    {
      "cell_type": "code",
      "source": [
        "model.add(MaxPooling2D(pool_size = (2,2)))"
      ],
      "metadata": {
        "id": "aNK9ADG7Psmh"
      },
      "execution_count": null,
      "outputs": []
    },
    {
      "cell_type": "code",
      "source": [
        "model.add(Flatten())"
      ],
      "metadata": {
        "id": "-OZXxyf7P9zV"
      },
      "execution_count": null,
      "outputs": []
    },
    {
      "cell_type": "code",
      "source": [
        "model.add(Dense(300, activation='relu'))"
      ],
      "metadata": {
        "id": "fn8xaafaQCmx"
      },
      "execution_count": null,
      "outputs": []
    },
    {
      "cell_type": "code",
      "source": [
        "model.add(Dense(300, activation='relu'))"
      ],
      "metadata": {
        "id": "Tv3NMFETQYwo"
      },
      "execution_count": null,
      "outputs": []
    },
    {
      "cell_type": "code",
      "source": [
        "model.add(Dense(5, activation=\"softmax\"))"
      ],
      "metadata": {
        "id": "1aqyKtr0Qak4"
      },
      "execution_count": null,
      "outputs": []
    },
    {
      "cell_type": "markdown",
      "source": [
        "Compile the Model"
      ],
      "metadata": {
        "id": "-E8pQVHwdjBS"
      }
    },
    {
      "cell_type": "code",
      "source": [
        "model.compile(loss=\"categorical_crossentropy\", metrics=[\"accuracy\"], optimizer='adam')"
      ],
      "metadata": {
        "id": "4YtIphm3Q95a"
      },
      "execution_count": null,
      "outputs": []
    },
    {
      "cell_type": "code",
      "source": [
        "len(x_train)"
      ],
      "metadata": {
        "colab": {
          "base_uri": "https://localhost:8080/"
        },
        "id": "qImUDvL1RV0y",
        "outputId": "a720dda1-ebf9-44a1-cc4e-1581199ac54b"
      },
      "execution_count": null,
      "outputs": [
        {
          "output_type": "execute_result",
          "data": {
            "text/plain": [
              "108"
            ]
          },
          "metadata": {},
          "execution_count": 40
        }
      ]
    },
    {
      "cell_type": "markdown",
      "source": [
        "Fit the Model"
      ],
      "metadata": {
        "id": "eytEyopbdm97"
      }
    },
    {
      "cell_type": "code",
      "source": [
        "model.fit(x_train, epochs = 5, validation_data=x_test, steps_per_epoch=len(x_train), validation_steps=len(x_test))"
      ],
      "metadata": {
        "colab": {
          "base_uri": "https://localhost:8080/"
        },
        "id": "fmRZdzd4RbP7",
        "outputId": "034a24e1-c44e-4a4a-f437-dda030fcd2c8"
      },
      "execution_count": null,
      "outputs": [
        {
          "output_type": "stream",
          "name": "stdout",
          "text": [
            "Epoch 1/5\n",
            "108/108 [==============================] - 51s 467ms/step - loss: 1.4033 - accuracy: 0.4383 - val_loss: 1.0875 - val_accuracy: 0.5594\n",
            "Epoch 2/5\n",
            "108/108 [==============================] - 49s 451ms/step - loss: 1.0707 - accuracy: 0.5671 - val_loss: 1.0768 - val_accuracy: 0.5745\n",
            "Epoch 3/5\n",
            "108/108 [==============================] - 51s 474ms/step - loss: 0.9937 - accuracy: 0.6118 - val_loss: 1.0006 - val_accuracy: 0.6050\n",
            "Epoch 4/5\n",
            "108/108 [==============================] - 48s 448ms/step - loss: 0.9467 - accuracy: 0.6294 - val_loss: 0.9537 - val_accuracy: 0.6467\n",
            "Epoch 5/5\n",
            "108/108 [==============================] - 48s 444ms/step - loss: 0.8910 - accuracy: 0.6562 - val_loss: 0.8300 - val_accuracy: 0.6843\n"
          ]
        },
        {
          "output_type": "execute_result",
          "data": {
            "text/plain": [
              "<keras.callbacks.History at 0x7f37fbd33390>"
            ]
          },
          "metadata": {},
          "execution_count": 41
        }
      ]
    },
    {
      "cell_type": "markdown",
      "source": [
        "Save the Model"
      ],
      "metadata": {
        "id": "Qmv_oD0LdrCo"
      }
    },
    {
      "cell_type": "code",
      "source": [
        "model.save(\"flower.h5\")"
      ],
      "metadata": {
        "id": "J1QhEn5iSMXx"
      },
      "execution_count": null,
      "outputs": []
    },
    {
      "cell_type": "markdown",
      "source": [
        "Test the Model"
      ],
      "metadata": {
        "id": "MagSVFKjdt_W"
      }
    },
    {
      "cell_type": "code",
      "source": [
        "from tensorflow.keras.models import load_model\n",
        "from tensorflow.keras.preprocessing import image\n",
        "import numpy as np"
      ],
      "metadata": {
        "id": "8c1ET9KqUO8i"
      },
      "execution_count": null,
      "outputs": []
    },
    {
      "cell_type": "code",
      "source": [
        " model = load_model(\"/content/drive/MyDrive/Colab Notebooks/CNN1/flower.h5\")"
      ],
      "metadata": {
        "id": "et9uzSWlUnVP"
      },
      "execution_count": null,
      "outputs": []
    },
    {
      "cell_type": "code",
      "source": [
        "from google.colab import drive\n",
        "drive.mount('/content/drive')"
      ],
      "metadata": {
        "colab": {
          "base_uri": "https://localhost:8080/"
        },
        "id": "W54YHlkIUV0t",
        "outputId": "a61f7f7f-1767-43fd-a4e1-e2073508e51d"
      },
      "execution_count": null,
      "outputs": [
        {
          "output_type": "stream",
          "name": "stdout",
          "text": [
            "Drive already mounted at /content/drive; to attempt to forcibly remount, call drive.mount(\"/content/drive\", force_remount=True).\n"
          ]
        }
      ]
    },
    {
      "cell_type": "code",
      "source": [
        "img = image.load_img(\"/content/drive/MyDrive/Colab Notebooks/CNN1/flowers/sunflower/1485456230_58d8e45e88.jpg\",target_size=(64,64))"
      ],
      "metadata": {
        "id": "EkgNz_RWVuDz"
      },
      "execution_count": null,
      "outputs": []
    },
    {
      "cell_type": "code",
      "source": [
        "img"
      ],
      "metadata": {
        "colab": {
          "base_uri": "https://localhost:8080/",
          "height": 81
        },
        "id": "mmucha8AWT5z",
        "outputId": "7f874d4a-03d0-4850-db72-51f6b17c9b18"
      },
      "execution_count": null,
      "outputs": [
        {
          "output_type": "execute_result",
          "data": {
            "text/plain": [
              "<PIL.Image.Image image mode=RGB size=64x64 at 0x7F37F9BB6B90>"
            ],
            "image/png": "[encoded data removed]"
          },
          "metadata": {},
          "execution_count": 70
        }
      ]
    },
    {
      "cell_type": "code",
      "source": [
        "x = image.img_to_array(img)"
      ],
      "metadata": {
        "id": "d3AL9SaGWU2N"
      },
      "execution_count": null,
      "outputs": []
    },
    {
      "cell_type": "code",
      "source": [
        "x"
      ],
      "metadata": {
        "colab": {
          "base_uri": "https://localhost:8080/"
        },
        "id": "yihZyOxDYyte",
        "outputId": "ccc08419-0492-4712-be08-6ce61a391faf"
      },
      "execution_count": null,
      "outputs": [
        {
          "output_type": "execute_result",
          "data": {
            "text/plain": [
              "array([[[ 74., 108.,  31.],\n",
              "        [ 77., 111.,  34.],\n",
              "        [ 74., 107.,  28.],\n",
              "        ...,\n",
              "        [ 82., 116.,  40.],\n",
              "        [ 80., 112.,  45.],\n",
              "        [ 80., 112.,  49.]],\n",
              "\n",
              "       [[ 77., 109.,  33.],\n",
              "        [ 75., 112.,  32.],\n",
              "        [ 74., 107.,  36.],\n",
              "        ...,\n",
              "        [ 78., 113.,  47.],\n",
              "        [ 84., 104.,  51.],\n",
              "        [ 89., 108.,  63.]],\n",
              "\n",
              "       [[ 74., 107.,  38.],\n",
              "        [ 74., 105.,  35.],\n",
              "        [ 75., 109.,  35.],\n",
              "        ...,\n",
              "        [ 76., 102.,  55.],\n",
              "        [ 77.,  92.,  73.],\n",
              "        [ 88.,  97.,  76.]],\n",
              "\n",
              "       ...,\n",
              "\n",
              "       [[126., 150., 178.],\n",
              "        [129., 160., 180.],\n",
              "        [114., 146., 157.],\n",
              "        ...,\n",
              "        [ 87., 114., 107.],\n",
              "        [ 93., 119., 110.],\n",
              "        [ 92., 119., 110.]],\n",
              "\n",
              "       [[134., 162., 186.],\n",
              "        [111., 146., 165.],\n",
              "        [110., 141., 144.],\n",
              "        ...,\n",
              "        [100., 127., 138.],\n",
              "        [109., 132., 146.],\n",
              "        [110., 138., 149.]],\n",
              "\n",
              "       [[116., 146., 156.],\n",
              "        [ 98., 133., 135.],\n",
              "        [ 96., 126., 126.],\n",
              "        ...,\n",
              "        [111., 141., 149.],\n",
              "        [117., 144., 155.],\n",
              "        [126., 151., 181.]]], dtype=float32)"
            ]
          },
          "metadata": {},
          "execution_count": 72
        }
      ]
    },
    {
      "cell_type": "code",
      "source": [
        "x.ndim"
      ],
      "metadata": {
        "colab": {
          "base_uri": "https://localhost:8080/"
        },
        "id": "p4pRB7AMZoX4",
        "outputId": "9f82aa42-95aa-4a64-d0c2-6fc4701566b4"
      },
      "execution_count": null,
      "outputs": [
        {
          "output_type": "execute_result",
          "data": {
            "text/plain": [
              "3"
            ]
          },
          "metadata": {},
          "execution_count": 73
        }
      ]
    },
    {
      "cell_type": "code",
      "source": [
        "x = np.expand_dims(x,axis = 0)"
      ],
      "metadata": {
        "id": "mAUk7tH7aFq4"
      },
      "execution_count": null,
      "outputs": []
    },
    {
      "cell_type": "code",
      "source": [
        "x.ndim"
      ],
      "metadata": {
        "colab": {
          "base_uri": "https://localhost:8080/"
        },
        "id": "D-MSkf0taJmw",
        "outputId": "f1d24938-ee56-4bbf-b727-8fcddc547444"
      },
      "execution_count": null,
      "outputs": [
        {
          "output_type": "execute_result",
          "data": {
            "text/plain": [
              "4"
            ]
          },
          "metadata": {},
          "execution_count": 75
        }
      ]
    },
    {
      "cell_type": "code",
      "source": [
        "pred = model.predict(x)"
      ],
      "metadata": {
        "id": "t5DQqIIVaK1x"
      },
      "execution_count": null,
      "outputs": []
    },
    {
      "cell_type": "code",
      "source": [
        "pred"
      ],
      "metadata": {
        "colab": {
          "base_uri": "https://localhost:8080/"
        },
        "id": "aP7rI4BXaNYL",
        "outputId": "ac408973-1dba-4261-ea20-6849aef8a205"
      },
      "execution_count": null,
      "outputs": [
        {
          "output_type": "execute_result",
          "data": {
            "text/plain": [
              "array([[0., 0., 0., 1., 0.]], dtype=float32)"
            ]
          },
          "metadata": {},
          "execution_count": 77
        }
      ]
    },
    {
      "cell_type": "code",
      "source": [
        "labels=[\"Daisy\",\"Dandalion\",\"Rose\",\"Sunflower\",\"Tulip\"]"
      ],
      "metadata": {
        "id": "LWIqmHldaQDs"
      },
      "execution_count": null,
      "outputs": []
    },
    {
      "cell_type": "code",
      "source": [
        "np.argmax(pred)"
      ],
      "metadata": {
        "colab": {
          "base_uri": "https://localhost:8080/"
        },
        "id": "THFchlaLbEhE",
        "outputId": "b87f24ac-991e-43a6-f221-dfa2963a3e66"
      },
      "execution_count": null,
      "outputs": [
        {
          "output_type": "execute_result",
          "data": {
            "text/plain": [
              "3"
            ]
          },
          "metadata": {},
          "execution_count": 79
        }
      ]
    },
    {
      "cell_type": "code",
      "source": [
        "labels[np.argmax(pred)]"
      ],
      "metadata": {
        "colab": {
          "base_uri": "https://localhost:8080/",
          "height": 35
        },
        "id": "i56HhEIgbG0o",
        "outputId": "fadd4fe5-29b1-4628-89a3-6b6ca9b4f079"
      },
      "execution_count": null,
      "outputs": [
        {
          "output_type": "execute_result",
          "data": {
            "text/plain": [
              "'Sunflower'"
            ],
            "application/vnd.google.colaboratory.intrinsic+json": {
              "type": "string"
            }
          },
          "metadata": {},
          "execution_count": 80
        }
      ]
    },
    {
      "cell_type": "code",
      "source": [],
      "metadata": {
        "id": "SyoEw6NmbKHt"
      },
      "execution_count": null,
      "outputs": []
    }
  ]
}