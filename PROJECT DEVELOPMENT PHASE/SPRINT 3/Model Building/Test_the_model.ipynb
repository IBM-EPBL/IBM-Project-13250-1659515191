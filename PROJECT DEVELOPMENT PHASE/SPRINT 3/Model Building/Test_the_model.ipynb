{
 "cells": [
  {
   "cell_type": "code",
   "execution_count": 1,
   "id": "3a7f768d",
   "metadata": {},
   "outputs": [],
   "source": [
    "import pandas as pd\n",
    "import numpy as np \n",
    "import matplotlib.pyplot as plt"
   ]
  },
  {
   "cell_type": "code",
   "execution_count": 2,
   "id": "3912c156",
   "metadata": {},
   "outputs": [
    {
     "data": {
      "text/plain": [
       "'C:\\\\Users\\\\Subhiksha Venunath\\\\Documents\\\\Crude oil price prediction implementation'"
      ]
     },
     "execution_count": 2,
     "metadata": {},
     "output_type": "execute_result"
    }
   ],
   "source": [
    "pwd"
   ]
  },
  {
   "cell_type": "code",
   "execution_count": 3,
   "id": "336dfdb3",
   "metadata": {},
   "outputs": [
    {
     "data": {
      "text/html": [
       "<div>\n",
       "<style scoped>\n",
       "    .dataframe tbody tr th:only-of-type {\n",
       "        vertical-align: middle;\n",
       "    }\n",
       "\n",
       "    .dataframe tbody tr th {\n",
       "        vertical-align: top;\n",
       "    }\n",
       "\n",
       "    .dataframe thead th {\n",
       "        text-align: right;\n",
       "    }\n",
       "</style>\n",
       "<table border=\"1\" class=\"dataframe\">\n",
       "  <thead>\n",
       "    <tr style=\"text-align: right;\">\n",
       "      <th></th>\n",
       "      <th>Date</th>\n",
       "      <th>Closing Value</th>\n",
       "    </tr>\n",
       "  </thead>\n",
       "  <tbody>\n",
       "    <tr>\n",
       "      <th>0</th>\n",
       "      <td>02-01-1986</td>\n",
       "      <td>25.56</td>\n",
       "    </tr>\n",
       "    <tr>\n",
       "      <th>1</th>\n",
       "      <td>03-01-1986</td>\n",
       "      <td>26.00</td>\n",
       "    </tr>\n",
       "    <tr>\n",
       "      <th>2</th>\n",
       "      <td>06-01-1986</td>\n",
       "      <td>26.53</td>\n",
       "    </tr>\n",
       "    <tr>\n",
       "      <th>3</th>\n",
       "      <td>07-01-1986</td>\n",
       "      <td>25.85</td>\n",
       "    </tr>\n",
       "    <tr>\n",
       "      <th>4</th>\n",
       "      <td>08-01-1986</td>\n",
       "      <td>25.87</td>\n",
       "    </tr>\n",
       "    <tr>\n",
       "      <th>...</th>\n",
       "      <td>...</td>\n",
       "      <td>...</td>\n",
       "    </tr>\n",
       "    <tr>\n",
       "      <th>8218</th>\n",
       "      <td>03-07-2018</td>\n",
       "      <td>74.19</td>\n",
       "    </tr>\n",
       "    <tr>\n",
       "      <th>8219</th>\n",
       "      <td>04-07-2018</td>\n",
       "      <td>NaN</td>\n",
       "    </tr>\n",
       "    <tr>\n",
       "      <th>8220</th>\n",
       "      <td>05-07-2018</td>\n",
       "      <td>73.05</td>\n",
       "    </tr>\n",
       "    <tr>\n",
       "      <th>8221</th>\n",
       "      <td>06-07-2018</td>\n",
       "      <td>73.78</td>\n",
       "    </tr>\n",
       "    <tr>\n",
       "      <th>8222</th>\n",
       "      <td>09-07-2018</td>\n",
       "      <td>73.93</td>\n",
       "    </tr>\n",
       "  </tbody>\n",
       "</table>\n",
       "<p>8223 rows × 2 columns</p>\n",
       "</div>"
      ],
      "text/plain": [
       "            Date  Closing Value\n",
       "0     02-01-1986          25.56\n",
       "1     03-01-1986          26.00\n",
       "2     06-01-1986          26.53\n",
       "3     07-01-1986          25.85\n",
       "4     08-01-1986          25.87\n",
       "...          ...            ...\n",
       "8218  03-07-2018          74.19\n",
       "8219  04-07-2018            NaN\n",
       "8220  05-07-2018          73.05\n",
       "8221  06-07-2018          73.78\n",
       "8222  09-07-2018          73.93\n",
       "\n",
       "[8223 rows x 2 columns]"
      ]
     },
     "execution_count": 3,
     "metadata": {},
     "output_type": "execute_result"
    }
   ],
   "source": [
    "data= pd.read_csv(\"Crude_Oil_Prices_Daily.csv\")\n",
    "data"
   ]
  },
  {
   "cell_type": "code",
   "execution_count": 4,
   "id": "ed619b52",
   "metadata": {},
   "outputs": [
    {
     "data": {
      "text/plain": [
       "Date             False\n",
       "Closing Value     True\n",
       "dtype: bool"
      ]
     },
     "execution_count": 4,
     "metadata": {},
     "output_type": "execute_result"
    }
   ],
   "source": [
    "data.isnull().any()"
   ]
  },
  {
   "cell_type": "code",
   "execution_count": 5,
   "id": "60d38e00",
   "metadata": {},
   "outputs": [
    {
     "data": {
      "text/plain": [
       "Date             0\n",
       "Closing Value    7\n",
       "dtype: int64"
      ]
     },
     "execution_count": 5,
     "metadata": {},
     "output_type": "execute_result"
    }
   ],
   "source": [
    "data.isnull().sum()"
   ]
  },
  {
   "cell_type": "code",
   "execution_count": 6,
   "id": "c13c15ae",
   "metadata": {},
   "outputs": [
    {
     "data": {
      "text/plain": [
       "Date             0\n",
       "Closing Value    0\n",
       "dtype: int64"
      ]
     },
     "execution_count": 6,
     "metadata": {},
     "output_type": "execute_result"
    }
   ],
   "source": [
    "data.dropna(axis=0,inplace=True)\n",
    "data.isnull().sum()"
   ]
  },
  {
   "cell_type": "code",
   "execution_count": 7,
   "id": "ede54d42",
   "metadata": {},
   "outputs": [],
   "source": [
    "data_oil=data.reset_index()['Closing Value']"
   ]
  },
  {
   "cell_type": "code",
   "execution_count": 8,
   "id": "0c73242c",
   "metadata": {},
   "outputs": [
    {
     "data": {
      "text/plain": [
       "0       25.56\n",
       "1       26.00\n",
       "2       26.53\n",
       "3       25.85\n",
       "4       25.87\n",
       "        ...  \n",
       "8211    73.89\n",
       "8212    74.19\n",
       "8213    73.05\n",
       "8214    73.78\n",
       "8215    73.93\n",
       "Name: Closing Value, Length: 8216, dtype: float64"
      ]
     },
     "execution_count": 8,
     "metadata": {},
     "output_type": "execute_result"
    }
   ],
   "source": [
    "data_oil"
   ]
  },
  {
   "cell_type": "code",
   "execution_count": 9,
   "id": "c981c41a",
   "metadata": {},
   "outputs": [],
   "source": [
    "from sklearn.preprocessing import MinMaxScaler\n",
    "Scaler=MinMaxScaler(feature_range=(0,1))\n",
    "data_oil=Scaler.fit_transform(np.array(data_oil).reshape(-1,1))"
   ]
  },
  {
   "cell_type": "code",
   "execution_count": 10,
   "id": "5e81d7d8",
   "metadata": {},
   "outputs": [
    {
     "data": {
      "text/plain": [
       "[<matplotlib.lines.Line2D at 0x24ed1c6fc10>]"
      ]
     },
     "execution_count": 10,
     "metadata": {},
     "output_type": "execute_result"
    },
    {
     "data": {
      "image/png": "[encoded data removed]",
      "text/plain": [
       "<Figure size 432x288 with 1 Axes>"
      ]
     },
     "metadata": {
      "needs_background": "light"
     },
     "output_type": "display_data"
    }
   ],
   "source": [
    "plt.plot(data_oil)"
   ]
  },
  {
   "cell_type": "code",
   "execution_count": 11,
   "id": "9aaf13bc",
   "metadata": {},
   "outputs": [],
   "source": [
    "training_size=int(len(data_oil)*0.65)\n",
    "test_size=len(data_oil)-training_size\n",
    "train_data,test_data=data_oil[0:training_size,:],data_oil[training_size:len(data_oil),:1]"
   ]
  },
  {
   "cell_type": "code",
   "execution_count": 12,
   "id": "5c0fa788",
   "metadata": {},
   "outputs": [
    {
     "data": {
      "text/plain": [
       "(5340, 2876)"
      ]
     },
     "execution_count": 12,
     "metadata": {},
     "output_type": "execute_result"
    }
   ],
   "source": [
    "training_size,test_size"
   ]
  },
  {
   "cell_type": "code",
   "execution_count": 13,
   "id": "d88c2bcb",
   "metadata": {},
   "outputs": [
    {
     "data": {
      "text/plain": [
       "(5340, 1)"
      ]
     },
     "execution_count": 13,
     "metadata": {},
     "output_type": "execute_result"
    }
   ],
   "source": [
    "train_data.shape"
   ]
  },
  {
   "cell_type": "code",
   "execution_count": 14,
   "id": "e5fd2413",
   "metadata": {},
   "outputs": [],
   "source": [
    "def create_dataset(dataset,time_step=1):\n",
    "    dataX,dataY=[],[]\n",
    "    for i in range(len(dataset)-time_step-1):\n",
    "        a=dataset[i:(i+time_step),0]\n",
    "        dataX.append(a)\n",
    "        dataY.append(dataset[i+time_step,0])\n",
    "        return np.array(dataX),np.array(dataY)"
   ]
  },
  {
   "cell_type": "code",
   "execution_count": 15,
   "id": "19391ae7",
   "metadata": {},
   "outputs": [],
   "source": [
    "time_step=10\n",
    "X_train,y_train=create_dataset(train_data,time_step)\n",
    "X_test,y_test=create_dataset(test_data,time_step)\n"
   ]
  },
  {
   "cell_type": "code",
   "execution_count": 16,
   "id": "f5c45358",
   "metadata": {},
   "outputs": [
    {
     "name": "stdout",
     "output_type": "stream",
     "text": [
      "(1, 10)\n",
      "(1,)\n"
     ]
    },
    {
     "data": {
      "text/plain": [
       "(None, None)"
      ]
     },
     "execution_count": 16,
     "metadata": {},
     "output_type": "execute_result"
    }
   ],
   "source": [
    "print(X_train.shape),print(y_train.shape)"
   ]
  },
  {
   "cell_type": "code",
   "execution_count": 17,
   "id": "b1115c2b",
   "metadata": {},
   "outputs": [
    {
     "data": {
      "text/plain": [
       "array([[0.11335703, 0.11661484, 0.12053902, 0.11550422, 0.1156523 ,\n",
       "        0.11683696, 0.1140234 , 0.10980305, 0.1089886 , 0.11054346]])"
      ]
     },
     "execution_count": 17,
     "metadata": {},
     "output_type": "execute_result"
    }
   ],
   "source": [
    "X_train"
   ]
  },
  {
   "cell_type": "code",
   "execution_count": 18,
   "id": "cce21dec",
   "metadata": {},
   "outputs": [],
   "source": [
    "X_train=X_train.reshape(X_train.shape[0],X_train.shape[1],1)\n",
    "X_test=X_test.reshape(X_test.shape[0],X_test.shape[1],1)\n"
   ]
  },
  {
   "cell_type": "code",
   "execution_count": 19,
   "id": "ed412444",
   "metadata": {},
   "outputs": [],
   "source": [
    "import tensorflow\n",
    "import keras"
   ]
  },
  {
   "cell_type": "code",
   "execution_count": 20,
   "id": "b67bcf47",
   "metadata": {},
   "outputs": [],
   "source": [
    "from keras.models import Sequential \n",
    "from keras.layers import Dense\n",
    "from keras.layers import LSTM\n"
   ]
  },
  {
   "cell_type": "code",
   "execution_count": 21,
   "id": "96768071",
   "metadata": {},
   "outputs": [],
   "source": [
    "model=Sequential()"
   ]
  },
  {
   "cell_type": "code",
   "execution_count": 22,
   "id": "655bc57c",
   "metadata": {},
   "outputs": [],
   "source": [
    "model=Sequential()\n",
    "model.add(LSTM(50, return_sequences=True, input_shape=(10,1)))\n",
    "model.add(LSTM(50, return_sequences=True))\n",
    "model.add(LSTM(50))\n",
    "model.add(Dense(1))"
   ]
  },
  {
   "cell_type": "code",
   "execution_count": 23,
   "id": "3f6c54af",
   "metadata": {},
   "outputs": [
    {
     "name": "stdout",
     "output_type": "stream",
     "text": [
      "Model: \"sequential_1\"\n",
      "_________________________________________________________________\n",
      " Layer (type)                Output Shape              Param #   \n",
      "=================================================================\n",
      " lstm (LSTM)                 (None, 10, 50)            10400     \n",
      "                                                                 \n",
      " lstm_1 (LSTM)               (None, 10, 50)            20200     \n",
      "                                                                 \n",
      " lstm_2 (LSTM)               (None, 50)                20200     \n",
      "                                                                 \n",
      " dense (Dense)               (None, 1)                 51        \n",
      "                                                                 \n",
      "=================================================================\n",
      "Total params: 50,851\n",
      "Trainable params: 50,851\n",
      "Non-trainable params: 0\n",
      "_________________________________________________________________\n"
     ]
    }
   ],
   "source": [
    "model.summary()"
   ]
  },
  {
   "cell_type": "code",
   "execution_count": 24,
   "id": "01ab124d",
   "metadata": {},
   "outputs": [],
   "source": [
    "model.compile(loss='mean_squared_error',optimizer='adam')"
   ]
  },
  {
   "cell_type": "code",
   "execution_count": 25,
   "id": "5517da7d",
   "metadata": {},
   "outputs": [
    {
     "name": "stdout",
     "output_type": "stream",
     "text": [
      "Epoch 1/50\n",
      "1/1 [==============================] - 11s 11s/step - loss: 0.0100 - val_loss: 0.0933\n",
      "Epoch 2/50\n",
      "1/1 [==============================] - 0s 78ms/step - loss: 0.0060 - val_loss: 0.0725\n",
      "Epoch 3/50\n",
      "1/1 [==============================] - 0s 61ms/step - loss: 0.0029 - val_loss: 0.0532\n",
      "Epoch 4/50\n",
      "1/1 [==============================] - 0s 69ms/step - loss: 8.4877e-04 - val_loss: 0.0360\n",
      "Epoch 5/50\n",
      "1/1 [==============================] - 0s 59ms/step - loss: 6.5573e-06 - val_loss: 0.0226\n",
      "Epoch 6/50\n",
      "1/1 [==============================] - 0s 62ms/step - loss: 5.2605e-04 - val_loss: 0.0160\n",
      "Epoch 7/50\n",
      "1/1 [==============================] - 0s 62ms/step - loss: 0.0015 - val_loss: 0.0150\n",
      "Epoch 8/50\n",
      "1/1 [==============================] - 0s 71ms/step - loss: 0.0017 - val_loss: 0.0173\n",
      "Epoch 9/50\n",
      "1/1 [==============================] - 0s 81ms/step - loss: 0.0013 - val_loss: 0.0216\n",
      "Epoch 10/50\n",
      "1/1 [==============================] - 0s 163ms/step - loss: 6.6246e-04 - val_loss: 0.0270\n",
      "Epoch 11/50\n",
      "1/1 [==============================] - 0s 106ms/step - loss: 2.0338e-04 - val_loss: 0.0328\n",
      "Epoch 12/50\n",
      "1/1 [==============================] - 0s 66ms/step - loss: 1.0127e-05 - val_loss: 0.0382\n",
      "Epoch 13/50\n",
      "1/1 [==============================] - 0s 74ms/step - loss: 4.0673e-05 - val_loss: 0.0427\n",
      "Epoch 14/50\n",
      "1/1 [==============================] - 0s 80ms/step - loss: 1.9104e-04 - val_loss: 0.0460\n",
      "Epoch 15/50\n",
      "1/1 [==============================] - 0s 115ms/step - loss: 3.5777e-04 - val_loss: 0.0481\n",
      "Epoch 16/50\n",
      "1/1 [==============================] - 0s 116ms/step - loss: 4.7031e-04 - val_loss: 0.0489\n",
      "Epoch 17/50\n",
      "1/1 [==============================] - 0s 73ms/step - loss: 4.9941e-04 - val_loss: 0.0486\n",
      "Epoch 18/50\n",
      "1/1 [==============================] - 0s 66ms/step - loss: 4.4953e-04 - val_loss: 0.0475\n",
      "Epoch 19/50\n",
      "1/1 [==============================] - 0s 71ms/step - loss: 3.4564e-04 - val_loss: 0.0457\n",
      "Epoch 20/50\n",
      "1/1 [==============================] - 0s 74ms/step - loss: 2.2102e-04 - val_loss: 0.0436\n",
      "Epoch 21/50\n",
      "1/1 [==============================] - 0s 76ms/step - loss: 1.0782e-04 - val_loss: 0.0412\n",
      "Epoch 22/50\n",
      "1/1 [==============================] - 0s 69ms/step - loss: 3.0317e-05 - val_loss: 0.0389\n",
      "Epoch 23/50\n",
      "1/1 [==============================] - 0s 63ms/step - loss: 3.7294e-07 - val_loss: 0.0368\n",
      "Epoch 24/50\n",
      "1/1 [==============================] - 0s 58ms/step - loss: 1.5379e-05 - val_loss: 0.0351\n",
      "Epoch 25/50\n",
      "1/1 [==============================] - 0s 60ms/step - loss: 5.9721e-05 - val_loss: 0.0340\n",
      "Epoch 26/50\n",
      "1/1 [==============================] - 0s 62ms/step - loss: 1.1038e-04 - val_loss: 0.0334\n",
      "Epoch 27/50\n",
      "1/1 [==============================] - 0s 63ms/step - loss: 1.4555e-04 - val_loss: 0.0334\n",
      "Epoch 28/50\n",
      "1/1 [==============================] - 0s 63ms/step - loss: 1.5267e-04 - val_loss: 0.0339\n",
      "Epoch 29/50\n",
      "1/1 [==============================] - 0s 64ms/step - loss: 1.3185e-04 - val_loss: 0.0350\n",
      "Epoch 30/50\n",
      "1/1 [==============================] - 0s 64ms/step - loss: 9.3369e-05 - val_loss: 0.0363\n",
      "Epoch 31/50\n",
      "1/1 [==============================] - 0s 65ms/step - loss: 5.1647e-05 - val_loss: 0.0378\n",
      "Epoch 32/50\n",
      "1/1 [==============================] - 0s 77ms/step - loss: 1.9044e-05 - val_loss: 0.0394\n",
      "Epoch 33/50\n",
      "1/1 [==============================] - 0s 49ms/step - loss: 2.2104e-06 - val_loss: 0.0409\n",
      "Epoch 34/50\n",
      "1/1 [==============================] - 0s 50ms/step - loss: 1.4336e-06 - val_loss: 0.0422\n",
      "Epoch 35/50\n",
      "1/1 [==============================] - 0s 67ms/step - loss: 1.2228e-05 - val_loss: 0.0432\n",
      "Epoch 36/50\n",
      "1/1 [==============================] - 0s 64ms/step - loss: 2.7881e-05 - val_loss: 0.0440\n",
      "Epoch 37/50\n",
      "1/1 [==============================] - 0s 65ms/step - loss: 4.1888e-05 - val_loss: 0.0443\n",
      "Epoch 38/50\n",
      "1/1 [==============================] - 0s 62ms/step - loss: 4.9666e-05 - val_loss: 0.0444\n",
      "Epoch 39/50\n",
      "1/1 [==============================] - 0s 64ms/step - loss: 4.9351e-05 - val_loss: 0.0442\n",
      "Epoch 40/50\n",
      "1/1 [==============================] - 0s 59ms/step - loss: 4.1741e-05 - val_loss: 0.0437\n",
      "Epoch 41/50\n",
      "1/1 [==============================] - 0s 63ms/step - loss: 2.9607e-05 - val_loss: 0.0430\n",
      "Epoch 42/50\n",
      "1/1 [==============================] - 0s 63ms/step - loss: 1.6628e-05 - val_loss: 0.0423\n",
      "Epoch 43/50\n",
      "1/1 [==============================] - 0s 63ms/step - loss: 6.2516e-06 - val_loss: 0.0415\n",
      "Epoch 44/50\n",
      "1/1 [==============================] - 0s 63ms/step - loss: 7.2176e-07 - val_loss: 0.0407\n",
      "Epoch 45/50\n",
      "1/1 [==============================] - 0s 62ms/step - loss: 5.3657e-07 - val_loss: 0.0400\n",
      "Epoch 46/50\n",
      "1/1 [==============================] - 0s 68ms/step - loss: 4.4688e-06 - val_loss: 0.0395\n",
      "Epoch 47/50\n",
      "1/1 [==============================] - 0s 59ms/step - loss: 1.0145e-05 - val_loss: 0.0392\n",
      "Epoch 48/50\n",
      "1/1 [==============================] - 0s 62ms/step - loss: 1.4977e-05 - val_loss: 0.0391\n",
      "Epoch 49/50\n",
      "1/1 [==============================] - 0s 60ms/step - loss: 1.7092e-05 - val_loss: 0.0392\n",
      "Epoch 50/50\n",
      "1/1 [==============================] - 0s 67ms/step - loss: 1.5904e-05 - val_loss: 0.0395\n"
     ]
    },
    {
     "data": {
      "text/plain": [
       "<keras.callbacks.History at 0x24edc8baca0>"
      ]
     },
     "execution_count": 25,
     "metadata": {},
     "output_type": "execute_result"
    }
   ],
   "source": [
    "model.fit(X_train,y_train,validation_data=(X_test,y_test),epochs=50,batch_size=64,verbose=1)"
   ]
  },
  {
   "cell_type": "code",
   "execution_count": 26,
   "id": "cbdebeda",
   "metadata": {},
   "outputs": [],
   "source": [
    "from sklearn.model_selection import train_test_split"
   ]
  },
  {
   "cell_type": "code",
   "execution_count": 27,
   "id": "3728df55",
   "metadata": {},
   "outputs": [
    {
     "name": "stdout",
     "output_type": "stream",
     "text": [
      "1/1 [==============================] - 2s 2s/step\n",
      "1/1 [==============================] - 0s 27ms/step\n"
     ]
    }
   ],
   "source": [
    "import tensorflow as tf\n",
    "train_predict=model.predict(X_train)\n",
    "test_predict=model.predict(X_test)"
   ]
  },
  {
   "cell_type": "code",
   "execution_count": 28,
   "id": "7de43afd",
   "metadata": {},
   "outputs": [],
   "source": [
    "train_predict=Scaler.inverse_transform(train_predict)\n",
    "test_predict=Scaler.inverse_transform(test_predict)"
   ]
  },
  {
   "cell_type": "code",
   "execution_count": 30,
   "id": "44a7cf52",
   "metadata": {},
   "outputs": [
    {
     "data": {
      "text/plain": [
       "24.348571122637082"
      ]
     },
     "execution_count": 30,
     "metadata": {},
     "output_type": "execute_result"
    }
   ],
   "source": [
    "import math\n",
    "from sklearn.metrics import mean_squared_error\n",
    "math.sqrt(mean_squared_error(y_train,train_predict))"
   ]
  },
  {
   "cell_type": "code",
   "execution_count": 31,
   "id": "0e5f0ed3",
   "metadata": {},
   "outputs": [
    {
     "data": {
      "text/plain": [
       "29.86906194891662"
      ]
     },
     "execution_count": 31,
     "metadata": {},
     "output_type": "execute_result"
    }
   ],
   "source": [
    "math.sqrt(mean_squared_error(y_test,test_predict))"
   ]
  },
  {
   "cell_type": "code",
   "execution_count": 32,
   "id": "d709b36c",
   "metadata": {},
   "outputs": [],
   "source": [
    "from tensorflow.keras.models import load_model"
   ]
  },
  {
   "cell_type": "code",
   "execution_count": 33,
   "id": "9b32e1ff",
   "metadata": {},
   "outputs": [],
   "source": [
    "model.save(\"crude_oil.h5\")"
   ]
  },
  {
   "cell_type": "code",
   "execution_count": 34,
   "id": "cd418601",
   "metadata": {},
   "outputs": [
    {
     "data": {
      "image/png": "[encoded data removed]",
      "text/plain": [
       "<Figure size 432x288 with 1 Axes>"
      ]
     },
     "metadata": {
      "needs_background": "light"
     },
     "output_type": "display_data"
    },
    {
     "name": "stdout",
     "output_type": "stream",
     "text": [
      "Green indicates predicted data\n",
      "Blue indicates complete data\n",
      "Orange indicates train data\n"
     ]
    }
   ],
   "source": [
    "look_back=10\n",
    "trainPredictPlot=np.empty_like(data_oil)\n",
    "trainPredictPlot[:,:]=np.nan\n",
    "trainPredictPlot[look_back:len(train_predict)+look_back,:]=train_predict\n",
    "testPredictPlot=np.empty_like(data_oil)\n",
    "testPredictPlot[:,:]=np.nan\n",
    "testPredictPlot[len(train_predict)+(look_back*2)+1:len(data_oil)-1,:]=test_predict\n",
    "plt.plot(Scaler.inverse_transform(data_oil))\n",
    "plt.plot(trainPredictPlot,label=\"traindata\")\n",
    "plt.plot(testPredictPlot,label=\"testdata\")\n",
    "plt.show()\n",
    "print(\"Green indicates predicted data\")\n",
    "print(\"Blue indicates complete data\")\n",
    "print(\"Orange indicates train data\")"
   ]
  },
  {
   "cell_type": "code",
   "execution_count": 35,
   "id": "e3ec8c53",
   "metadata": {},
   "outputs": [
    {
     "data": {
      "text/plain": [
       "2876"
      ]
     },
     "execution_count": 35,
     "metadata": {},
     "output_type": "execute_result"
    }
   ],
   "source": [
    "len(test_data)"
   ]
  },
  {
   "cell_type": "code",
   "execution_count": 36,
   "id": "5a69d733",
   "metadata": {},
   "outputs": [
    {
     "data": {
      "text/plain": [
       "(1, 10)"
      ]
     },
     "execution_count": 36,
     "metadata": {},
     "output_type": "execute_result"
    }
   ],
   "source": [
    "X_input=test_data[2866:].reshape(1,-1)\n",
    "X_input.shape"
   ]
  },
  {
   "cell_type": "code",
   "execution_count": 37,
   "id": "721b3673",
   "metadata": {},
   "outputs": [],
   "source": [
    "temp_input=list(X_input)\n",
    "temp_input=temp_input[0].tolist()\n"
   ]
  },
  {
   "cell_type": "code",
   "execution_count": 38,
   "id": "e2bb90af",
   "metadata": {},
   "outputs": [
    {
     "data": {
      "text/plain": [
       "[0.44172960165852215,\n",
       " 0.48111950244335855,\n",
       " 0.49726047682511476,\n",
       " 0.4679401747371539,\n",
       " 0.4729749740855915,\n",
       " 0.47119798608026064,\n",
       " 0.47341922108692425,\n",
       " 0.4649785280616022,\n",
       " 0.4703835332444839,\n",
       " 0.47149415074781587]"
      ]
     },
     "execution_count": 38,
     "metadata": {},
     "output_type": "execute_result"
    }
   ],
   "source": [
    "temp_input"
   ]
  },
  {
   "cell_type": "code",
   "execution_count": 39,
   "id": "cc2709ab",
   "metadata": {},
   "outputs": [
    {
     "name": "stdout",
     "output_type": "stream",
     "text": [
      "[0.1642093]\n",
      "11\n",
      "1 day input [0.4811195  0.49726048 0.46794017 0.47297497 0.47119799 0.47341922\n",
      " 0.46497853 0.47038353 0.47149415 0.16420931]\n",
      "{} day output {}.format(i,yhat)\n",
      "2 day input [0.49726048 0.46794017 0.47297497 0.47119799 0.47341922 0.46497853\n",
      " 0.47038353 0.47149415 0.16420931 0.16367218]\n",
      "{} day output {}.format(i,yhat)\n",
      "3 day input [0.46794017 0.47297497 0.47119799 0.47341922 0.46497853 0.47038353\n",
      " 0.47149415 0.16420931 0.16367218 0.16097896]\n",
      "{} day output {}.format(i,yhat)\n",
      "4 day input [0.47297497 0.47119799 0.47341922 0.46497853 0.47038353 0.47149415\n",
      " 0.16420931 0.16367218 0.16097896 0.15659374]\n",
      "{} day output {}.format(i,yhat)\n",
      "5 day input [0.47119799 0.47341922 0.46497853 0.47038353 0.47149415 0.16420931\n",
      " 0.16367218 0.16097896 0.15659374 0.15153584]\n",
      "{} day output {}.format(i,yhat)\n",
      "6 day input [0.47341922 0.46497853 0.47038353 0.47149415 0.16420931 0.16367218\n",
      " 0.16097896 0.15659374 0.15153584 0.14546236]\n",
      "{} day output {}.format(i,yhat)\n",
      "7 day input [0.46497853 0.47038353 0.47149415 0.16420931 0.16367218 0.16097896\n",
      " 0.15659374 0.15153584 0.14546236 0.13881217]\n",
      "{} day output {}.format(i,yhat)\n",
      "8 day input [0.47038353 0.47149415 0.16420931 0.16367218 0.16097896 0.15659374\n",
      " 0.15153584 0.14546236 0.13881217 0.1318    ]\n",
      "{} day output {}.format(i,yhat)\n",
      "9 day input [0.47149415 0.16420931 0.16367218 0.16097896 0.15659374 0.15153584\n",
      " 0.14546236 0.13881217 0.1318     0.12485855]\n",
      "{} day output {}.format(i,yhat)\n"
     ]
    }
   ],
   "source": [
    "lst_output=[]\n",
    "n_steps=10\n",
    "i=0\n",
    "while(i<10):\n",
    "    if(len(temp_input)>10):\n",
    "        X_input=np.array(temp_input[1:])\n",
    "        print(\"{} day input {}\".format(i,X_input))\n",
    "        X_input=X_input.reshape(1,-1)\n",
    "        X_input=X_input.reshape((1,n_steps,1))\n",
    "        yhat=model.predict(X_input,verbose=0)\n",
    "        print(\"{} day output {}.format(i,yhat)\")\n",
    "        temp_input.extend(yhat[0].tolist())\n",
    "        temp_input=temp_input[1:]\n",
    "        lst_output.extend(yhat.tolist())\n",
    "        i=i+1\n",
    "    else:\n",
    "        X_input=X_input.reshape((1,n_steps,1))\n",
    "        yhat=model.predict(X_input,verbose=0)\n",
    "        print(yhat[0])\n",
    "        temp_input.extend(yhat[0].tolist())\n",
    "        print(len(temp_input))\n",
    "        lst_output.extend(yhat.tolist())\n",
    "        i=i+1"
   ]
  },
  {
   "cell_type": "code",
   "execution_count": 40,
   "id": "7d0bea27",
   "metadata": {},
   "outputs": [],
   "source": [
    "day_new=np.arange(1,11)\n",
    "day_pred=np.arange(11,21)"
   ]
  },
  {
   "cell_type": "code",
   "execution_count": 41,
   "id": "67524fca",
   "metadata": {},
   "outputs": [
    {
     "data": {
      "text/plain": [
       "8216"
      ]
     },
     "execution_count": 41,
     "metadata": {},
     "output_type": "execute_result"
    }
   ],
   "source": [
    "len(data_oil)"
   ]
  },
  {
   "cell_type": "code",
   "execution_count": 42,
   "id": "a9b0df6b",
   "metadata": {},
   "outputs": [
    {
     "data": {
      "text/plain": [
       "[<matplotlib.lines.Line2D at 0x24ee66bbee0>]"
      ]
     },
     "execution_count": 42,
     "metadata": {},
     "output_type": "execute_result"
    },
    {
     "data": {
      "image/png": "[encoded data removed]",
      "text/plain": [
       "<Figure size 432x288 with 1 Axes>"
      ]
     },
     "metadata": {
      "needs_background": "light"
     },
     "output_type": "display_data"
    }
   ],
   "source": [
    "plt.plot(day_new,Scaler.inverse_transform(data_oil[8206:]))\n",
    "plt.plot(day_pred,Scaler.inverse_transform(lst_output))\n"
   ]
  },
  {
   "cell_type": "code",
   "execution_count": 43,
   "id": "3e95f6a0",
   "metadata": {},
   "outputs": [
    {
     "data": {
      "text/plain": [
       "[<matplotlib.lines.Line2D at 0x24ee66c1970>]"
      ]
     },
     "execution_count": 43,
     "metadata": {},
     "output_type": "execute_result"
    },
    {
     "data": {
      "image/png": "[encoded data removed]",
      "text/plain": [
       "<Figure size 432x288 with 1 Axes>"
      ]
     },
     "metadata": {
      "needs_background": "light"
     },
     "output_type": "display_data"
    }
   ],
   "source": [
    "df3=data_oil.tolist()\n",
    "df3.extend(lst_output)\n",
    "plt.plot(df3[8100:])"
   ]
  },
  {
   "cell_type": "code",
   "execution_count": 44,
   "id": "e743dd2a",
   "metadata": {},
   "outputs": [
    {
     "data": {
      "text/plain": [
       "[<matplotlib.lines.Line2D at 0x24ee69eb100>]"
      ]
     },
     "execution_count": 44,
     "metadata": {},
     "output_type": "execute_result"
    },
    {
     "data": {
      "image/png": "[encoded data removed]",
      "text/plain": [
       "<Figure size 432x288 with 1 Axes>"
      ]
     },
     "metadata": {
      "needs_background": "light"
     },
     "output_type": "display_data"
    }
   ],
   "source": [
    "df3=Scaler.inverse_transform(df3).tolist()\n",
    "plt.plot(df3)"
   ]
  },
  {
   "cell_type": "code",
   "execution_count": 46,
   "id": "6f87fced",
   "metadata": {},
   "outputs": [],
   "source": [
    "model=load_model(\"crude_oil.h5\")"
   ]
  },
  {
   "cell_type": "code",
   "execution_count": 45,
   "id": "57d1c627",
   "metadata": {},
   "outputs": [],
   "source": [
    "from keras.models import load_model"
   ]
  }
 ],
 "metadata": {
  "kernelspec": {
   "display_name": "Python 3 (ipykernel)",
   "language": "python",
   "name": "python3"
  },
  "language_info": {
   "codemirror_mode": {
    "name": "ipython",
    "version": 3
   },
   "file_extension": ".py",
   "mimetype": "text/x-python",
   "name": "python",
   "nbconvert_exporter": "python",
   "pygments_lexer": "ipython3",
   "version": "3.9.12"
  }
 },
 "nbformat": 4,
 "nbformat_minor": 5
}
